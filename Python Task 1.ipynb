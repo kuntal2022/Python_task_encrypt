{
 "cells": [
  {
   "cell_type": "markdown",
   "id": "58b99df0",
   "metadata": {},
   "source": [
    "# Q1. Create a function which will take a list as an argument and return the product of all the numbers after creating a flat list. Use the below-given list as an argument for your function.\n",
    "#### list1 = [1,2,3,4, [44,55,66, True], False, (34,56,78,89,34), {1,2,3,3,2,1}, {1:34, \"key2\": [55, 67, 78, 89], 4: (45,22, 61, 34)}, [56, 'data science'], 'Machine Learning']\n",
    "##### Note: you must extract numeric keys and values of the dictionary also."
   ]
  },
  {
   "cell_type": "code",
   "execution_count": 44,
   "id": "2f922518",
   "metadata": {},
   "outputs": [
    {
     "name": "stdout",
     "output_type": "stream",
     "text": [
      "[1, 2, 3, 4, 44, 55, 66, 34, 56, 78, 89, 34, 1, 2, 3, 1, 55, 67, 78, 89, 4, 45, 22, 61, 34, 56]\n"
     ]
    }
   ],
   "source": [
    "list1 = [1,2,3,4, [44,55,66, True], False, (34,56,78,89,34), {1,2,3,3,2,1}, \\\n",
    "         {1:34, \"key2\": [55, 67, 78, 89], 4: (45,22, 61, 34)}, [56, 'data science'], 'Machine Learning']\n",
    "\n",
    "\n",
    "\n",
    "\n",
    "def number_filter(l1): # define the function\n",
    "    n=[] # creat a empty lsit\n",
    "    for i in l1:\n",
    "        if str(i).isnumeric(): # filter only numeric values from the main list\n",
    "            n.append(i)\n",
    "        elif type(i)==list or type(i)==tuple or type(i)== set : # filtering numbers from tup, list, set elements \n",
    "            for j in i:\n",
    "                if str(j).isnumeric():\n",
    "                    n.append(j)\n",
    "        elif type(i)== dict: # filtering only numeric keys\n",
    "            for k,v in i.items():\n",
    "                if str(k).isnumeric() :\n",
    "                    n.append(k)\n",
    "                if str(k).isalnum() and (type(v)==list or type(v)==tuple): # filtering tup/list's values numbers\n",
    "                    for t in v:\n",
    "                        if str(j).isnumeric():\n",
    "                            n.append(t)\n",
    "        \n",
    "                    \n",
    "        \n",
    "            \n",
    "    return(n) # rtruning the final list\n",
    "\n",
    "print(number_filter(list1))"
   ]
  },
  {
   "cell_type": "markdown",
   "id": "413f9458",
   "metadata": {},
   "source": [
    "# Q2. Write a python program for encrypting a message sent to you by your friend. The logic of encryption should be such that, for a the output should be z. For b, the output should be y. For c, the output should be x respectively. Also, the whitespace should be replaced with a dollar sign. Keep the punctuation marks unchanged.\n",
    "\n",
    "\n",
    "#### Input Sentence: I want to become a Data Scientist.\n",
    "\n",
    "###### Encrypt the above input sentence using the program you just created.\n",
    "Note: Convert the given input sentence into lowercase before encrypting. The final output should be\n",
    "lowercase."
   ]
  },
  {
   "cell_type": "code",
   "execution_count": 218,
   "id": "daafd96d",
   "metadata": {},
   "outputs": [
    {
     "name": "stdout",
     "output_type": "stream",
     "text": [
      "{'a': 97}\n",
      "{'b': 98}\n",
      "{'c': 99}\n",
      "{'d': 100}\n",
      "{'e': 101}\n",
      "{'f': 102}\n",
      "{'g': 103}\n",
      "{'h': 104}\n",
      "{'i': 105}\n",
      "{'j': 106}\n",
      "{'k': 107}\n",
      "{'l': 108}\n",
      "{'m': 109}\n",
      "{'n': 110}\n",
      "{'o': 111}\n",
      "{'p': 112}\n",
      "{'q': 113}\n",
      "{'r': 114}\n",
      "{'s': 115}\n",
      "{'u': 117}\n",
      "{'v': 118}\n",
      "{'w': 119}\n",
      "{'x': 120}\n",
      "{'y': 121}\n",
      "{'z': 122}\n"
     ]
    }
   ],
   "source": [
    "# lets check the ord for all the alpha bet\n",
    "alpha_x=\"abcdefghijklmnopqrsuvwxyz\"\n",
    "for i in alpha_x:\n",
    "    print({i:ord(i)})"
   ]
  },
  {
   "cell_type": "code",
   "execution_count": 220,
   "id": "5a753a24",
   "metadata": {},
   "outputs": [
    {
     "data": {
      "text/plain": [
       "'r$wzmg$gl$yvxlmv$z$wzgz$hxrvmgrhg'"
      ]
     },
     "execution_count": 220,
     "metadata": {},
     "output_type": "execute_result"
    }
   ],
   "source": [
    "def encrypt_text(x): # defing the function\n",
    "    x= x.lower() # converting to lower case\n",
    "    for i in x:\n",
    "        if i != \" \":\n",
    "            if (ord(i)+26)>122: # if ord(i)>122 then problem \n",
    "                # so lets get the diffrence as e\n",
    "                e=122-ord(i) \n",
    "                x=x.replace(i,(chr(97+e))) # add the diffrence with 97 and change it to chr\n",
    "            elif (ord(i)+25)<=122:\n",
    "                x=x.replace(i,(chr(97+26)))\n",
    "        else:\n",
    "            x=x.replace(\" \", \"$\") # rplacing the space with $\n",
    "            \n",
    "    return x\n",
    "\n",
    "    \n",
    "\n",
    "encrypt_text(\"I want to become a Data Scientist\") # print the encrypted form "
   ]
  },
  {
   "cell_type": "code",
   "execution_count": null,
   "id": "7c86a1db",
   "metadata": {},
   "outputs": [],
   "source": []
  }
 ],
 "metadata": {
  "kernelspec": {
   "display_name": "Python 3 (ipykernel)",
   "language": "python",
   "name": "python3"
  },
  "language_info": {
   "codemirror_mode": {
    "name": "ipython",
    "version": 3
   },
   "file_extension": ".py",
   "mimetype": "text/x-python",
   "name": "python",
   "nbconvert_exporter": "python",
   "pygments_lexer": "ipython3",
   "version": "3.9.13"
  }
 },
 "nbformat": 4,
 "nbformat_minor": 5
}
